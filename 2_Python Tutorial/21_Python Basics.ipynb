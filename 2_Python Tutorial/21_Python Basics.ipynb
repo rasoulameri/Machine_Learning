{
 "cells": [
  {
   "attachments": {},
   "cell_type": "markdown",
   "metadata": {},
   "source": [
    "<div style=\"font-size: 1em; margin: 1em 0 1em 0; border: 1px solid #86989B; background-color: #f7f7f7; padding: 0;\">\n",
    "<span style='color:Black'>\n",
    "<div class=\"alert alert-info\">\n",
    "<img align=\"left\" src='imgs/imgpython.png'  width='10%'><img align=\"right\" src='imgs/imgpython.png'  width='10%'>\n",
    "    <h1 align=\"center\">Python Basics</h1> \n",
    "    <h3 align=\"center\"> International Graduate School of Artificial Intelligence - YunTech </h3>\n",
    "    <h5 align=\"center\">  </h5>\n",
    "</div>\n",
    "</span>\n",
    "</div>\n"
   ]
  },
  {
   "cell_type": "markdown",
   "metadata": {},
   "source": [
    "#### Ref: https://docs.python.org/3/tutorial/index.html"
   ]
  },
  {
   "attachments": {},
   "cell_type": "markdown",
   "metadata": {},
   "source": [
    "<br>\n",
    "\n",
    "# <span style='color:Black'>**Python Introduction**</span>"
   ]
  },
  {
   "attachments": {},
   "cell_type": "markdown",
   "metadata": {},
   "source": [
    "<div style=\"font-size: 1em; border: 1px solid #86989B; background-color: #f7f7f7; padding: 1em 1em 1em 1em;\">\n",
    "\n",
    "<img src='imgs/icon1.png'  width='1.2%'> <span style='color:Black'>**What is python?**</span>     \n",
    "\n",
    "Python is a popular and powerful programming language. It was created by Guido van Rossum, and released in 1991.\n",
    "\n",
    "<div align=\"center\">\n",
    "<img src='imgs/imgpyranking.png'  width='90%'>\n",
    "</div>\n",
    "\n",
    "<br>\n",
    "\n",
    "<img src='imgs/icon1.png'  width='1.2%'> <span style='color:Black'>**Why Python?**</span>  \n",
    "\n",
    "<img src='imgs/icon2.png'  width='1.2%'>  Python works on differnt OS (Windows, Mac, Linux, etc)\n",
    "\n",
    "<img src='imgs/icon2.png'  width='1.2%'>  Python has simple synax and is easy to learn\n",
    "\n",
    "<img src='imgs/icon2.png'  width='1.2%'>  Python has a lot of libraries and packages\n",
    "\n",
    "</div>\n",
    "\n"
   ]
  },
  {
   "cell_type": "markdown",
   "metadata": {},
   "source": [
    "# <span style='color:Black'>**Python Basics**</span>"
   ]
  },
  {
   "attachments": {},
   "cell_type": "markdown",
   "metadata": {},
   "source": [
    "\n",
    "## <span style='color:Black'>**Python Indentation**</span>"
   ]
  },
  {
   "cell_type": "markdown",
   "metadata": {},
   "source": [
    "Indentation refers to the spaces at the beginning of a code line. Python uses indentation to indicate a block of code."
   ]
  },
  {
   "cell_type": "code",
   "execution_count": 1,
   "metadata": {},
   "outputs": [
    {
     "name": "stdout",
     "output_type": "stream",
     "text": [
      "Six is greater than two!\n"
     ]
    }
   ],
   "source": [
    "if 6 > 2:\n",
    "  print(\"Six is greater than two!\")"
   ]
  },
  {
   "cell_type": "markdown",
   "metadata": {},
   "source": [
    "<span style='color:DarkGreen'> **Example:** <br> Syntax Error</span>"
   ]
  },
  {
   "cell_type": "code",
   "execution_count": 2,
   "metadata": {},
   "outputs": [
    {
     "ename": "IndentationError",
     "evalue": "expected an indented block after 'if' statement on line 1 (2127126293.py, line 2)",
     "output_type": "error",
     "traceback": [
      "\u001b[1;36m  Cell \u001b[1;32mIn[2], line 2\u001b[1;36m\u001b[0m\n\u001b[1;33m    print(\"Six is greater than two!\")\u001b[0m\n\u001b[1;37m    ^\u001b[0m\n\u001b[1;31mIndentationError\u001b[0m\u001b[1;31m:\u001b[0m expected an indented block after 'if' statement on line 1\n"
     ]
    }
   ],
   "source": [
    "if 6 > 2:\n",
    "print(\"Six is greater than two!\")"
   ]
  },
  {
   "cell_type": "code",
   "execution_count": 3,
   "metadata": {},
   "outputs": [
    {
     "name": "stdout",
     "output_type": "stream",
     "text": [
      "Six is greater than two!\n",
      "Six is greater than two!\n"
     ]
    }
   ],
   "source": [
    "if 6 > 2:\n",
    "  print(\"Six is greater than two!\") \n",
    "if 6 > 2:\n",
    "        print(\"Six is greater than two!\") "
   ]
  },
  {
   "cell_type": "markdown",
   "metadata": {},
   "source": [
    "<span style='color:DarkGreen'>**Example:** <br> Syntax Error </span>"
   ]
  },
  {
   "cell_type": "code",
   "execution_count": 4,
   "metadata": {},
   "outputs": [
    {
     "ename": "IndentationError",
     "evalue": "unexpected indent (3418499656.py, line 3)",
     "output_type": "error",
     "traceback": [
      "\u001b[1;36m  Cell \u001b[1;32mIn[4], line 3\u001b[1;36m\u001b[0m\n\u001b[1;33m    print(\"Six is greater than two!\")\u001b[0m\n\u001b[1;37m    ^\u001b[0m\n\u001b[1;31mIndentationError\u001b[0m\u001b[1;31m:\u001b[0m unexpected indent\n"
     ]
    }
   ],
   "source": [
    "if 6 > 2:\n",
    " print(\"Six is greater than two!\")\n",
    "        print(\"Six is greater than two!\")"
   ]
  },
  {
   "attachments": {},
   "cell_type": "markdown",
   "metadata": {},
   "source": [
    "<div style=\"font-size: 1em; margin: 1em 0 1em 0; border: 1px solid #86989B; background-color: #f7f7f7; padding: 0em 1em 1em 0.1em;\">\n",
    "<p style=\"margin: 0; padding: 0.1em 0 0.1em 0.5em; color: black; border-bottom: 1px solid #86989B; font-weight: bold; background-color: #28A745;\">\n",
    "Activity 1\n",
    "</p>\n",
    "<p style=\"margin: 0.5em 1em 0.5em 1em; padding: 0;\">\n",
    "In the below cell, Please verify \"Python Indentation\" by yourself: \n",
    "</p>\n",
    "</div>"
   ]
  },
  {
   "cell_type": "code",
   "execution_count": 5,
   "metadata": {},
   "outputs": [],
   "source": [
    "# Activity 1 - Answer"
   ]
  },
  {
   "attachments": {},
   "cell_type": "markdown",
   "metadata": {},
   "source": [
    "<div style=\"font-size: 1em; margin: 1em 1em 1em 0; border: 1px solid #86989B; background-color: #ACF1F1; padding: 1em 1em 1em 2em;\">\n",
    "\n",
    "## <span style='color:Black'>**Python Comments** <br></span>\n",
    "\n",
    "Comments can be used to:\n",
    "\n",
    "<img src='imgs/icon2.png'  width='1.2%'>  explain Python code\n",
    "\n",
    "<img src='imgs/icon2.png'  width='1.2%'>  make the code more readable.\n",
    "\n",
    "<img src='imgs/icon2.png'  width='1.2%'>  prevent execution when testing code.\n",
    "\n",
    "Comments start with a **#**, and Python will consider the rest of the line as a comment.\n",
    "\n",
    "</div>"
   ]
  },
  {
   "cell_type": "code",
   "execution_count": 6,
   "metadata": {},
   "outputs": [
    {
     "name": "stdout",
     "output_type": "stream",
     "text": [
      "Hello, World!\n"
     ]
    }
   ],
   "source": [
    "#This is a comment.\n",
    "print(\"Hello, World!\")"
   ]
  },
  {
   "cell_type": "code",
   "execution_count": 7,
   "metadata": {},
   "outputs": [
    {
     "name": "stdout",
     "output_type": "stream",
     "text": [
      "Hello, World!\n"
     ]
    }
   ],
   "source": [
    "print(\"Hello, World!\") #This is a comment"
   ]
  },
  {
   "cell_type": "markdown",
   "metadata": {},
   "source": [
    "**Multi Line Comments**<br>\n",
    "Python does not have a syntax for multi line comments. You could insert **#** for each line:"
   ]
  },
  {
   "cell_type": "code",
   "execution_count": 8,
   "metadata": {},
   "outputs": [
    {
     "name": "stdout",
     "output_type": "stream",
     "text": [
      "Hello, World!\n"
     ]
    }
   ],
   "source": [
    "#This is a comment\n",
    "#written in\n",
    "#more than just one line\n",
    "print(\"Hello, World!\")"
   ]
  },
  {
   "attachments": {},
   "cell_type": "markdown",
   "metadata": {},
   "source": [
    "<div style=\"font-size: 1em; margin: 1em 0 1em 0; border: 1px solid #86989B; background-color: #f7f7f7; padding: 0em 1em 1em 0.1em;\">\n",
    "<p style=\"margin: 0; padding: 0.1em 0 0.1em 0.5em; color: black; border-bottom: 1px solid #86989B; font-weight: bold; background-color: #28A745;\">\n",
    "Activity 2\n",
    "</p>\n",
    "<p style=\"margin: 0.5em 1em 0.5em 1em; padding: 0;\">\n",
    "In the below cell, please check the character \"#\" for creating a comment: \n",
    "\n",
    "(To turn a line into a comment in Python, simply press \"Ctrl + /\")\n",
    "\n",
    "</p>\n",
    "</div>"
   ]
  },
  {
   "cell_type": "code",
   "execution_count": 9,
   "metadata": {},
   "outputs": [],
   "source": [
    "# Activity 2 - Answer\n",
    "\n"
   ]
  },
  {
   "attachments": {},
   "cell_type": "markdown",
   "metadata": {},
   "source": [
    "<div style=\"font-size: 1em; margin: 1em 1em 1em 0; border: 1px solid #86989B; background-color: #ACF1F1; padding: 1em 1em 1em 2em;\">\n",
    "\n",
    "## <span style='color:Black'>**Python Variables**</span>\n",
    "\n",
    "Variables are containers for storing data values.\n",
    "\n",
    "Python has no command for declaring a variable. A variable has a *name*, a *type*, and a 'value'. <br>\n",
    "A variable is created the moment you first assign a value to it and the 'type' is determined automatically.\n",
    "\n",
    "</div>"
   ]
  },
  {
   "cell_type": "code",
   "execution_count": 10,
   "metadata": {},
   "outputs": [
    {
     "name": "stdout",
     "output_type": "stream",
     "text": [
      "7\n",
      "Leo\n"
     ]
    }
   ],
   "source": [
    "x = 7\n",
    "y = \"Leo\"\n",
    "\n",
    "print(x)\n",
    "print(y)"
   ]
  },
  {
   "cell_type": "markdown",
   "metadata": {},
   "source": [
    "### Get the type of variables <br>"
   ]
  },
  {
   "cell_type": "markdown",
   "metadata": {},
   "source": [
    "Get the type of a variable using 'type()' function."
   ]
  },
  {
   "cell_type": "code",
   "execution_count": 11,
   "metadata": {},
   "outputs": [
    {
     "name": "stdout",
     "output_type": "stream",
     "text": [
      "<class 'int'>\n",
      "<class 'str'>\n",
      "<class 'float'>\n"
     ]
    }
   ],
   "source": [
    "x = 7\n",
    "y = \"Leo\"\n",
    "z = float(7)\n",
    "\n",
    "print(type(x))\n",
    "print(type(y))\n",
    "print(type(z))"
   ]
  },
  {
   "attachments": {},
   "cell_type": "markdown",
   "metadata": {},
   "source": [
    "<img src='imgs/icon2.png'  width='1.2%'> String variables can be declared either by using single or double quotes."
   ]
  },
  {
   "cell_type": "code",
   "execution_count": 12,
   "metadata": {},
   "outputs": [],
   "source": [
    "x = \"John\"\n",
    "# is the same as\n",
    "x = 'John'"
   ]
  },
  {
   "attachments": {},
   "cell_type": "markdown",
   "metadata": {},
   "source": [
    "<img src='imgs/icon2.png'  width='1.2%'> Variable names are case-sensitive."
   ]
  },
  {
   "cell_type": "code",
   "execution_count": 13,
   "metadata": {},
   "outputs": [],
   "source": [
    "a = 4\n",
    "A = \"Sally\"\n",
    "# A will not overwrite a"
   ]
  },
  {
   "attachments": {},
   "cell_type": "markdown",
   "metadata": {},
   "source": [
    "<div style=\"font-size: 1em; margin: 1em 0 1em 0; border: 1px solid #86989B; background-color: #f7f7f7; padding: 0em 1em 1em 0.1em;\">\n",
    "<p style=\"margin: 0; padding: 0.1em 0 0.1em 0.5em; color: black; border-bottom: 1px solid #86989B; font-weight: bold; background-color: #28A745;\">\n",
    "Activity 3\n",
    "</p>\n",
    "<p style=\"margin: 0.5em 1em 0.5em 1em; padding: 0;\">\n",
    "\n",
    "Create a variable name **StudentName** and assigne the value **John** to it:\n",
    "</p>\n",
    "</div>"
   ]
  },
  {
   "cell_type": "code",
   "execution_count": 14,
   "metadata": {},
   "outputs": [],
   "source": [
    "# Activity 3 - Answer\n",
    "\n"
   ]
  },
  {
   "attachments": {},
   "cell_type": "markdown",
   "metadata": {},
   "source": [
    "<div style=\"font-size: 1em; margin: 1em 1em 1em 0; border: 1px solid #86989B; background-color: #ACF9F9; padding: 1em 1em 1em 2em;\">\n",
    "\n",
    "## <span style='color:Black'>**Data Types**</span> \n",
    "\n",
    "\n",
    "<img src='imgs/icon2.png'  width='1.2%'>  Variables can store data of different types, and different types can do different things.\n",
    "<br>\n",
    "\n",
    "<img src='imgs/datatypes.jpg'  width='40%'> \n",
    "\n",
    "</div>"
   ]
  },
  {
   "cell_type": "markdown",
   "metadata": {},
   "source": [
    "## <span style='color:Black'>**Data Structures**</span>"
   ]
  },
  {
   "attachments": {},
   "cell_type": "markdown",
   "metadata": {},
   "source": [
    "There are four collection data types in the Python programming language:\n",
    "\n",
    "<img src='imgs/icon2.png'  width='1.2%'> **List** is a collection which is *ordered* and *changeable*. Allows duplicate members.\n",
    "\n",
    "<img src='imgs/icon2.png'  width='1.2%'> **Tuple** is a collection which is *ordered* and *unchangeable*. Allows duplicate members.\n",
    "\n",
    "<img src='imgs/icon2.png'  width='1.2%'> **Set** is a collection which is *unordered*, *unchangeable*, and unindexed. No duplicate members.\n",
    "\n",
    "<img src='imgs/icon2.png'  width='1.2%'> **Dictionary** is a collection which is *ordered* and *changeable*. No duplicate members.\n",
    "\n",
    "\n",
    "**Changable:** it means that the items have a defined order, and that order will not change.\n",
    "\n",
    "**Ordered:** we can change, add, and remove items in a list after it has been created.\n",
    "\n"
   ]
  },
  {
   "attachments": {},
   "cell_type": "markdown",
   "metadata": {},
   "source": [
    "<div style=\"font-size: 1em; margin: 1em 1em 1em 0; border: 1px solid #86989B; background-color: #ACF9F9; padding: 1em 1em 1em 2em;\">\n",
    "\n",
    "### <img src='imgs/icon2.png'  width='1.2%'>  **Lists**\n",
    "\n",
    "\n",
    "Lists are used to store multiple items in a single variable.\n",
    "</div>"
   ]
  },
  {
   "attachments": {},
   "cell_type": "markdown",
   "metadata": {},
   "source": [
    "<span style='color:DarkGreen'> Example: Create a list </span>"
   ]
  },
  {
   "cell_type": "code",
   "execution_count": 15,
   "metadata": {},
   "outputs": [
    {
     "name": "stdout",
     "output_type": "stream",
     "text": [
      "['red', 'blue', 'green']\n",
      "['red', 'blue', 'green', 'red', 'blue', 'green']\n"
     ]
    }
   ],
   "source": [
    "List1 = [\"red\", \"blue\", \"green\"]\n",
    "print(List1)\n",
    "\n",
    "\n",
    "# Allow Duplicates\n",
    "List2 = [\"red\", \"blue\", \"green\", \"red\", \"blue\", \"green\"]\n",
    "print(List2)"
   ]
  },
  {
   "attachments": {},
   "cell_type": "markdown",
   "metadata": {},
   "source": [
    "Some useful methods that you can use on list:<br>\n",
    "\n",
    "<img src='imgs/icon3.png'  width='1%'> **len()**: to determine the number of items\n",
    "\n",
    "<img src='imgs/icon3.png'  width='1%'> **append()**: to add an item to the end of the list.\n",
    "\n",
    "<img src='imgs/icon3.png'  width='1%'> **remove()**: this function removes the specific item.\n",
    "\n",
    "<img src='imgs/icon3.png'  width='1%'> **sort()**: sort the list.\n",
    "\n",
    "<img src='imgs/icon3.png'  width='1%'> **copy()**: make a copy from a list.\n",
    "\n",
    "<img src='imgs/icon3.png'  width='1%'> **count()**: returns the number of elements with the specified value.\n",
    "\n",
    "<img src='imgs/icon3.png'  width='1%'> **extend()**: add the elements of a list (or any iterable), to the end of the current list.\n",
    "\n",
    "<img src='imgs/icon3.png'  width='1%'> **pop()**: removes the element at the specified position\n",
    "\n",
    "<img src='imgs/icon3.png'  width='1%'> **reverse()**: reverses the order of the list\n",
    "\n",
    "<img src='imgs/icon3.png'  width='1%'> **clear():** removes all the elements from the list"
   ]
  },
  {
   "cell_type": "code",
   "execution_count": 16,
   "metadata": {},
   "outputs": [
    {
     "name": "stdout",
     "output_type": "stream",
     "text": [
      "['Red', 'Blue', 'Green']\n"
     ]
    }
   ],
   "source": [
    "List1 = [\"Red\", \"Blue\", \"Green\"]\n",
    "print(List1)"
   ]
  },
  {
   "cell_type": "code",
   "execution_count": 17,
   "metadata": {},
   "outputs": [
    {
     "name": "stdout",
     "output_type": "stream",
     "text": [
      "3\n"
     ]
    }
   ],
   "source": [
    "print(len(List1))"
   ]
  },
  {
   "cell_type": "code",
   "execution_count": 18,
   "metadata": {},
   "outputs": [
    {
     "name": "stdout",
     "output_type": "stream",
     "text": [
      "['Blue', 'Green']\n"
     ]
    }
   ],
   "source": [
    "print(List1[1:3])"
   ]
  },
  {
   "cell_type": "code",
   "execution_count": 19,
   "metadata": {},
   "outputs": [
    {
     "name": "stdout",
     "output_type": "stream",
     "text": [
      "['Red', 'Pink', 'Green']\n"
     ]
    }
   ],
   "source": [
    "List1[1] = \"Pink\"\n",
    "print(List1)"
   ]
  },
  {
   "cell_type": "code",
   "execution_count": 20,
   "metadata": {},
   "outputs": [
    {
     "name": "stdout",
     "output_type": "stream",
     "text": [
      "['Red', 'Pink', 'Green', 'Black']\n"
     ]
    }
   ],
   "source": [
    "List1.append(\"Black\")\n",
    "print(List1)"
   ]
  },
  {
   "cell_type": "code",
   "execution_count": 21,
   "metadata": {},
   "outputs": [
    {
     "name": "stdout",
     "output_type": "stream",
     "text": [
      "['Red', 'Green', 'Black']\n"
     ]
    }
   ],
   "source": [
    "List1.remove(\"Pink\")\n",
    "print(List1)"
   ]
  },
  {
   "cell_type": "code",
   "execution_count": 22,
   "metadata": {},
   "outputs": [
    {
     "name": "stdout",
     "output_type": "stream",
     "text": [
      "['Red', 'Green']\n"
     ]
    }
   ],
   "source": [
    "List1.pop()\n",
    "print(List1)"
   ]
  },
  {
   "cell_type": "code",
   "execution_count": 23,
   "metadata": {},
   "outputs": [
    {
     "name": "stdout",
     "output_type": "stream",
     "text": [
      "['Green', 'Red']\n"
     ]
    }
   ],
   "source": [
    "List1.sort()\n",
    "print(List1)"
   ]
  },
  {
   "cell_type": "code",
   "execution_count": 24,
   "metadata": {},
   "outputs": [
    {
     "name": "stdout",
     "output_type": "stream",
     "text": [
      "['Red', 'Green']\n"
     ]
    }
   ],
   "source": [
    "List1.sort(reverse = True)\n",
    "print(List1)"
   ]
  },
  {
   "cell_type": "code",
   "execution_count": 25,
   "metadata": {},
   "outputs": [
    {
     "name": "stdout",
     "output_type": "stream",
     "text": [
      "['Red', 'Green']\n"
     ]
    }
   ],
   "source": [
    "mylist = List1.copy()\n",
    "print(mylist)"
   ]
  },
  {
   "cell_type": "code",
   "execution_count": 26,
   "metadata": {},
   "outputs": [
    {
     "name": "stdout",
     "output_type": "stream",
     "text": [
      "['a', 'b', 'c', 1, 2, 3]\n",
      "['a', 'b', 'c', 1, 2, 3]\n"
     ]
    }
   ],
   "source": [
    "list1 = [\"a\", \"b\", \"c\"]\n",
    "list2 = [1, 2, 3]\n",
    "\n",
    "list3 = list1 + list2\n",
    "print(list3)\n",
    "\n",
    "#---------\n",
    "list1 = [\"a\", \"b\" , \"c\"]\n",
    "list2 = [1, 2, 3]\n",
    "\n",
    "list1.extend(list2)\n",
    "print(list1)"
   ]
  },
  {
   "cell_type": "code",
   "execution_count": 27,
   "metadata": {},
   "outputs": [
    {
     "name": "stdout",
     "output_type": "stream",
     "text": [
      "2\n",
      "1\n"
     ]
    }
   ],
   "source": [
    "list1 = [\"a\", \"b\", \"c\", \"a\"]\n",
    "\n",
    "print(list1.count(\"a\"))\n",
    "print(list1.count(\"b\"))"
   ]
  },
  {
   "attachments": {},
   "cell_type": "markdown",
   "metadata": {},
   "source": [
    "<div style=\"font-size: 1em; margin: 1em 0 1em 0; border: 1px solid #86989B; background-color: #f7f7f7; padding: 0em 1em 1em 0.1em;\">\n",
    "<p style=\"margin: 0; padding: 0.1em 0 0.1em 0.5em; color: black; border-bottom: 1px solid #86989B; font-weight: bold; background-color: #28A745;\">\n",
    "Activity 4\n",
    "</p>\n",
    "<p style=\"margin: 0.5em 1em 0.5em 1em; padding: 0;\">\n",
    "\n",
    "In the below cell, define a List and print the output of above funtions for it such as len, append, copy, ...\n",
    "\n",
    "</p>\n",
    "</div>"
   ]
  },
  {
   "cell_type": "code",
   "execution_count": null,
   "metadata": {},
   "outputs": [],
   "source": []
  },
  {
   "attachments": {},
   "cell_type": "markdown",
   "metadata": {},
   "source": [
    "<div style=\"font-size: 1em; margin: 1em 1em 1em 0; border: 1px solid #86989B; background-color: #ACF9F9; padding: 1em 1em 1em 2em;\">\n",
    "\n",
    "### <img src='imgs/icon2.png'  width='1.2%'>  **Tuples** <br>\n",
    "\n",
    "- Tuples are used to store multiple items in a single variable.<br>\n",
    "\n",
    "- A tuple is a collection which is ordered and **unchangeable**.\n",
    "\n",
    "</div>"
   ]
  },
  {
   "cell_type": "code",
   "execution_count": 32,
   "metadata": {},
   "outputs": [
    {
     "name": "stdout",
     "output_type": "stream",
     "text": [
      "('red', 'blue', 'green')\n",
      "('red', 'blue', 'green', 'red', 'blue')\n"
     ]
    }
   ],
   "source": [
    "tuple1 = (\"red\", \"blue\", \"green\")\n",
    "print(tuple1)\n",
    "\n",
    "tuple2 = (\"red\", \"blue\", \"green\", \"red\", \"blue\")\n",
    "print(tuple2)"
   ]
  },
  {
   "attachments": {},
   "cell_type": "markdown",
   "metadata": {},
   "source": [
    "**Python has two methods that you can use on tuples.**\n",
    "\n",
    "<img src='imgs/icon3.png'  width='1%'> **count()**: returns the number of times a specified value occurs in a tuple\n",
    "\n",
    "<img src='imgs/icon3.png'  width='1%'> **index()**: searches the tuple for a specified value and returns the position of where it was found"
   ]
  },
  {
   "cell_type": "code",
   "execution_count": 33,
   "metadata": {},
   "outputs": [
    {
     "name": "stdout",
     "output_type": "stream",
     "text": [
      "2\n"
     ]
    }
   ],
   "source": [
    "tuple1 = (1, 3, 7, 8, 7, 5, 4, 6, 8, 5)\n",
    "\n",
    "x = tuple1.count(5)\n",
    "\n",
    "print(x)"
   ]
  },
  {
   "cell_type": "code",
   "execution_count": 34,
   "metadata": {},
   "outputs": [
    {
     "name": "stdout",
     "output_type": "stream",
     "text": [
      "3\n"
     ]
    }
   ],
   "source": [
    "tuple1 = (1, 3, 7, 8, 7, 5, 4, 6, 8, 5)\n",
    "\n",
    "x = tuple1.index(8)\n",
    "\n",
    "print(x)"
   ]
  },
  {
   "cell_type": "code",
   "execution_count": 35,
   "metadata": {},
   "outputs": [
    {
     "ename": "TypeError",
     "evalue": "'tuple' object does not support item assignment",
     "output_type": "error",
     "traceback": [
      "\u001b[1;31m---------------------------------------------------------------------------\u001b[0m",
      "\u001b[1;31mTypeError\u001b[0m                                 Traceback (most recent call last)",
      "Cell \u001b[1;32mIn[35], line 4\u001b[0m\n\u001b[0;32m      1\u001b[0m \u001b[39m# unchangable\u001b[39;00m\n\u001b[0;32m      2\u001b[0m tuple1 \u001b[39m=\u001b[39m (\u001b[39m1\u001b[39m, \u001b[39m2\u001b[39m, \u001b[39m33\u001b[39m, \u001b[39m44\u001b[39m, \u001b[39m6\u001b[39m)\n\u001b[1;32m----> 4\u001b[0m tuple1[\u001b[39m4\u001b[39m] \u001b[39m=\u001b[39m \u001b[39m10\u001b[39m\n",
      "\u001b[1;31mTypeError\u001b[0m: 'tuple' object does not support item assignment"
     ]
    }
   ],
   "source": [
    "# unchangable\n",
    "tuple1 = (1, 2, 33, 44, 6)\n",
    "\n",
    "tuple1[4] = 10"
   ]
  },
  {
   "cell_type": "code",
   "execution_count": 36,
   "metadata": {},
   "outputs": [
    {
     "name": "stdout",
     "output_type": "stream",
     "text": [
      "(1, 10, 33, 44, 6)\n"
     ]
    }
   ],
   "source": [
    "# chande 2->10\n",
    "\n",
    "tuple1 = (1, 2, 33, 44, 6)\n",
    "list1 = list(tuple1)\n",
    "list1[1] = 10\n",
    "tuple1 = tuple(list1)\n",
    "\n",
    "print(tuple1)"
   ]
  },
  {
   "attachments": {},
   "cell_type": "markdown",
   "metadata": {},
   "source": [
    "<div style=\"font-size: 1em; margin: 1em 0 1em 0; border: 1px solid #86989B; background-color: #f7f7f7; padding: 0em 1em 1em 0.1em;\">\n",
    "<p style=\"margin: 0; padding: 0.1em 0 0.1em 0.5em; color: black; border-bottom: 1px solid #86989B; font-weight: bold; background-color: #28A745;\">\n",
    "Activity 5\n",
    "</p>\n",
    "<p style=\"margin: 0.5em 1em 0.5em 1em; padding: 0;\">\n",
    "\n",
    "In the cell below, define a tuple and apply the above methods to it...\n",
    "</p>\n",
    "</div>"
   ]
  },
  {
   "cell_type": "code",
   "execution_count": null,
   "metadata": {},
   "outputs": [],
   "source": []
  },
  {
   "attachments": {},
   "cell_type": "markdown",
   "metadata": {},
   "source": [
    "<div style=\"font-size: 1em; margin: 1em 1em 1em 0; border: 1px solid #86989B; background-color: #ACF9F9; padding: 1em 1em 1em 2em;\">\n",
    "\n",
    "### <img src='imgs/icon2.png'  width='1.2%'> **Sets**\n",
    "\n",
    "- Sets are used to store multiple items in a single variable.\n",
    "\n",
    "- A set is a collection which is **unordered**, **unchangeable**, and unindexed."
   ]
  },
  {
   "cell_type": "code",
   "execution_count": 37,
   "metadata": {},
   "outputs": [
    {
     "name": "stdout",
     "output_type": "stream",
     "text": [
      "{'green', 'red', 'blue'}\n"
     ]
    }
   ],
   "source": [
    "set1 = {\"red\", \"blue\", \"green\"}\n",
    "print(set1)"
   ]
  },
  {
   "attachments": {},
   "cell_type": "markdown",
   "metadata": {},
   "source": [
    "**Python has a set of methods that you can use on sets.**\n",
    "\n",
    "<img src='imgs/icon3.png'  width='1%'> **add()**: adds an element to the set\n",
    "\n",
    "<img src='imgs/icon3.png'  width='1%'> **clear()**: removes all the elements from the set\n",
    "\n",
    "<img src='imgs/icon3.png'  width='1%'> **copy()**: returns a copy of the set\n",
    "\n",
    "<img src='imgs/icon3.png'  width='1%'> **discard()**: remove the specified item\n",
    "\n",
    "<img src='imgs/icon3.png'  width='1%'> **pop()**: removes an element from the set\n",
    "\n",
    "<img src='imgs/icon3.png'  width='1%'> **remove()**: removes the specified element"
   ]
  },
  {
   "cell_type": "code",
   "execution_count": 38,
   "metadata": {},
   "outputs": [
    {
     "name": "stdout",
     "output_type": "stream",
     "text": [
      "{'apple', 'orange', 'cherry', 'banana'}\n"
     ]
    }
   ],
   "source": [
    "fruits = {\"apple\", \"banana\", \"cherry\"}\n",
    "\n",
    "fruits.add(\"orange\")\n",
    "\n",
    "print(fruits)"
   ]
  },
  {
   "cell_type": "code",
   "execution_count": 39,
   "metadata": {},
   "outputs": [
    {
     "name": "stdout",
     "output_type": "stream",
     "text": [
      "set()\n"
     ]
    }
   ],
   "source": [
    "fruits = {\"apple\", \"banana\", \"cherry\"}\n",
    "\n",
    "fruits.clear()\n",
    "\n",
    "print(fruits)"
   ]
  },
  {
   "cell_type": "code",
   "execution_count": 40,
   "metadata": {},
   "outputs": [
    {
     "name": "stdout",
     "output_type": "stream",
     "text": [
      "{'apple', 'cherry'}\n"
     ]
    }
   ],
   "source": [
    "fruits = {\"apple\", \"banana\", \"cherry\"}\n",
    "\n",
    "fruits.discard(\"banana\")\n",
    "\n",
    "print(fruits)"
   ]
  },
  {
   "cell_type": "code",
   "execution_count": 41,
   "metadata": {},
   "outputs": [
    {
     "name": "stdout",
     "output_type": "stream",
     "text": [
      "{'apple', 'banana'}\n"
     ]
    }
   ],
   "source": [
    "fruits = {\"apple\", \"banana\", \"cherry\"}\n",
    "\n",
    "fruits.pop()\n",
    "\n",
    "print(fruits)"
   ]
  },
  {
   "cell_type": "code",
   "execution_count": 42,
   "metadata": {},
   "outputs": [
    {
     "name": "stdout",
     "output_type": "stream",
     "text": [
      "{'cherry', 'apple'}\n"
     ]
    }
   ],
   "source": [
    "fruits = {\"apple\", \"banana\", \"cherry\"}\n",
    "\n",
    "fruits.remove(\"banana\")\n",
    "\n",
    "print(fruits)"
   ]
  },
  {
   "cell_type": "code",
   "execution_count": null,
   "metadata": {},
   "outputs": [],
   "source": []
  },
  {
   "attachments": {},
   "cell_type": "markdown",
   "metadata": {},
   "source": [
    "<div style=\"font-size: 1em; margin: 1em 1em 1em 0; border: 1px solid #86989B; background-color: #ACF9F9; padding: 1em 1em 1em 2em;\">\n",
    "\n",
    "### <img src='imgs/icon2.png'  width='1.2%'> **Dictionaries**\n",
    "\n",
    "- Dictionaries are used to store data values in key:value pairs.<br>\n",
    "\n",
    "- A dictionary is a collection which is **ordered**, **changeable** and do not allow duplicates."
   ]
  },
  {
   "cell_type": "code",
   "execution_count": 43,
   "metadata": {},
   "outputs": [
    {
     "name": "stdout",
     "output_type": "stream",
     "text": [
      "{'brand': 'Ford', 'model': 'Mustang', 'year': 1964}\n"
     ]
    }
   ],
   "source": [
    "dict1 = {\n",
    "  \"brand\": \"Ford\",\n",
    "  \"model\": \"Mustang\",\n",
    "  \"year\": 1964\n",
    "}\n",
    "print(dict1)"
   ]
  },
  {
   "attachments": {},
   "cell_type": "markdown",
   "metadata": {},
   "source": [
    "<div style=\"font-size: 1em; margin: 1em 1em 1em 0; border: 1px solid #86989B; background-color: #F7ff59; padding: 1em 1em 1em 2em;\">\n",
    "\n",
    "**Python has a set of built-in methods that you can use on dictionaries.**\n",
    "\n",
    "<img src='imgs/icon3.png'  width='1%'> **clear()**: removes all the elements from the dictionary\n",
    "\n",
    "\n",
    "</div>"
   ]
  },
  {
   "cell_type": "code",
   "execution_count": 50,
   "metadata": {},
   "outputs": [
    {
     "name": "stdout",
     "output_type": "stream",
     "text": [
      "{}\n"
     ]
    }
   ],
   "source": [
    "car = {\n",
    "  \"brand\": \"Ford\",\n",
    "  \"model\": \"Mustang\",\n",
    "  \"year\": 1964\n",
    "}\n",
    "\n",
    "car.clear()\n",
    "\n",
    "print(car)"
   ]
  },
  {
   "attachments": {},
   "cell_type": "markdown",
   "metadata": {},
   "source": [
    "<div style=\"font-size: 1em; margin: 1em 1em 1em 0; border: 1px solid #86989B; background-color: #F7ff59; padding: 1em 1em 1em 2em;\">\n",
    "\n",
    "<img src='imgs/icon3.png'  width='1%'> **copy()**: returns a copy of the dictionary\n",
    "\n",
    "\n",
    "</div>"
   ]
  },
  {
   "cell_type": "code",
   "execution_count": 51,
   "metadata": {},
   "outputs": [
    {
     "name": "stdout",
     "output_type": "stream",
     "text": [
      "{'brand': 'Ford', 'model': 'Mustang', 'year': 1964}\n"
     ]
    }
   ],
   "source": [
    "car = {\n",
    "  \"brand\": \"Ford\",\n",
    "  \"model\": \"Mustang\",\n",
    "  \"year\": 1964\n",
    "}\n",
    "\n",
    "x = car.copy()\n",
    "\n",
    "print(x)"
   ]
  },
  {
   "attachments": {},
   "cell_type": "markdown",
   "metadata": {},
   "source": [
    "<div style=\"font-size: 1em; margin: 1em 1em 1em 0; border: 1px solid #86989B; background-color: #F7ff59; padding: 1em 1em 1em 2em;\">\n",
    "\n",
    "\n",
    "<img src='imgs/icon3.png'  width='1%'> **fromkeys()**: returns a dictionary with the specified keys and value\n",
    "\n",
    "\n",
    "\n",
    "</div>"
   ]
  },
  {
   "cell_type": "code",
   "execution_count": 52,
   "metadata": {},
   "outputs": [
    {
     "name": "stdout",
     "output_type": "stream",
     "text": [
      "{'key1': 0, 'key2': 0, 'key3': 0}\n"
     ]
    }
   ],
   "source": [
    "x = ('key1', 'key2', 'key3')\n",
    "y = 0\n",
    "\n",
    "thisdict = dict.fromkeys(x, y)\n",
    "\n",
    "print(thisdict)"
   ]
  },
  {
   "attachments": {},
   "cell_type": "markdown",
   "metadata": {},
   "source": [
    "<div style=\"font-size: 1em; margin: 1em 1em 1em 0; border: 1px solid #86989B; background-color: #F7ff59; padding: 1em 1em 1em 2em;\">\n",
    "\n",
    "<img src='imgs/icon3.png'  width='1%'> **get()**: returns the value of the specified key\n",
    "\n",
    "\n",
    "</div>"
   ]
  },
  {
   "cell_type": "code",
   "execution_count": 53,
   "metadata": {},
   "outputs": [
    {
     "name": "stdout",
     "output_type": "stream",
     "text": [
      "Mustang\n"
     ]
    }
   ],
   "source": [
    "car = {\n",
    "  \"brand\": \"Ford\",\n",
    "  \"model\": \"Mustang\",\n",
    "  \"year\": 1964\n",
    "}\n",
    "\n",
    "x = car.get(\"model\")\n",
    "\n",
    "print(x)"
   ]
  },
  {
   "attachments": {},
   "cell_type": "markdown",
   "metadata": {},
   "source": [
    "<div style=\"font-size: 1em; margin: 1em 1em 1em 0; border: 1px solid #86989B; background-color: #F7ff59; padding: 1em 1em 1em 2em;\">\n",
    "\n",
    "\n",
    "<img src='imgs/icon3.png'  width='1%'> **items()**: returns a list containing a tuple for each key value pair\n",
    "\n",
    "\n",
    "</div>"
   ]
  },
  {
   "cell_type": "code",
   "execution_count": 54,
   "metadata": {},
   "outputs": [
    {
     "name": "stdout",
     "output_type": "stream",
     "text": [
      "dict_items([('brand', 'Ford'), ('model', 'Mustang'), ('year', 1964)])\n"
     ]
    }
   ],
   "source": [
    "car = {\n",
    "  \"brand\": \"Ford\",\n",
    "  \"model\": \"Mustang\",\n",
    "  \"year\": 1964\n",
    "}\n",
    "\n",
    "x = car.items()\n",
    "\n",
    "print(x)"
   ]
  },
  {
   "attachments": {},
   "cell_type": "markdown",
   "metadata": {},
   "source": [
    "<div style=\"font-size: 1em; margin: 1em 1em 1em 0; border: 1px solid #86989B; background-color: #F7ff59; padding: 1em 1em 1em 2em;\">\n",
    "\n",
    "\n",
    "\n",
    "<img src='imgs/icon3.png'  width='1%'> **keys()**: returns a list containing the dictionary's keys\n",
    "\n",
    "\n",
    "</div>"
   ]
  },
  {
   "cell_type": "code",
   "execution_count": 55,
   "metadata": {},
   "outputs": [
    {
     "name": "stdout",
     "output_type": "stream",
     "text": [
      "dict_keys(['brand', 'model', 'year'])\n"
     ]
    }
   ],
   "source": [
    "car = {\n",
    "  \"brand\": \"Ford\",\n",
    "  \"model\": \"Mustang\",\n",
    "  \"year\": 1964\n",
    "}\n",
    "\n",
    "x = car.keys()\n",
    "\n",
    "print(x)"
   ]
  },
  {
   "attachments": {},
   "cell_type": "markdown",
   "metadata": {},
   "source": [
    "<div style=\"font-size: 1em; margin: 1em 1em 1em 0; border: 1px solid #86989B; background-color: #F7ff59; padding: 1em 1em 1em 2em;\">\n",
    "\n",
    "\n",
    "<img src='imgs/icon3.png'  width='1%'> **pop()**: removes the element with the specified key\n",
    "\n",
    "\n",
    "</div>"
   ]
  },
  {
   "cell_type": "code",
   "execution_count": 98,
   "metadata": {},
   "outputs": [
    {
     "name": "stdout",
     "output_type": "stream",
     "text": [
      "{'brand': 'Ford', 'year': 1964}\n"
     ]
    }
   ],
   "source": [
    "car = {\n",
    "  \"brand\": \"Ford\",\n",
    "  \"model\": \"Mustang\",\n",
    "  \"year\": 1964\n",
    "}\n",
    "\n",
    "car.pop(\"model\")\n",
    "\n",
    "print(car)"
   ]
  },
  {
   "attachments": {},
   "cell_type": "markdown",
   "metadata": {},
   "source": [
    "<div style=\"font-size: 1em; margin: 1em 1em 1em 0; border: 1px solid #86989B; background-color: #F7ff59; padding: 1em 1em 1em 2em;\">\n",
    "\n",
    "\n",
    "<img src='imgs/icon3.png'  width='1%'> **popitem()**: removes the last inserted key-value pair\n",
    "\n",
    "\n",
    "</div>"
   ]
  },
  {
   "cell_type": "code",
   "execution_count": 99,
   "metadata": {},
   "outputs": [
    {
     "name": "stdout",
     "output_type": "stream",
     "text": [
      "{'brand': 'Ford', 'model': 'Mustang'}\n"
     ]
    }
   ],
   "source": [
    "car = {\n",
    "  \"brand\": \"Ford\",\n",
    "  \"model\": \"Mustang\",\n",
    "  \"year\": 1964,\n",
    "}\n",
    "\n",
    "car.popitem()\n",
    "\n",
    "print(car)"
   ]
  },
  {
   "attachments": {},
   "cell_type": "markdown",
   "metadata": {},
   "source": [
    "<div style=\"font-size: 1em; margin: 1em 1em 1em 0; border: 1px solid #86989B; background-color: #F7ff59; padding: 1em 1em 1em 2em;\">\n",
    "\n",
    "\n",
    "<img src='imgs/icon3.png'  width='1%'> **setdefault()**: returns the value of the specified key. If the key does not exist: insert the key, with the specified value\n",
    "\n",
    "\n",
    "</div>"
   ]
  },
  {
   "cell_type": "code",
   "execution_count": 58,
   "metadata": {},
   "outputs": [
    {
     "name": "stdout",
     "output_type": "stream",
     "text": [
      "Mustang\n"
     ]
    }
   ],
   "source": [
    "car = {\n",
    "  \"brand\": \"Ford\",\n",
    "  \"model\": \"Mustang\",\n",
    "  \"year\": 1964\n",
    "}\n",
    "\n",
    "x = car.setdefault(\"model\", \"Bronco\")\n",
    "\n",
    "print(x)"
   ]
  },
  {
   "attachments": {},
   "cell_type": "markdown",
   "metadata": {},
   "source": [
    "<div style=\"font-size: 1em; margin: 1em 1em 1em 0; border: 1px solid #86989B; background-color: #F7ff59; padding: 1em 1em 1em 2em;\">\n",
    "\n",
    "<img src='imgs/icon3.png'  width='1%'> **update()**: updates the dictionary with the specified key-value pairs\n",
    "\n",
    "\n",
    "</div>"
   ]
  },
  {
   "cell_type": "code",
   "execution_count": 59,
   "metadata": {},
   "outputs": [
    {
     "name": "stdout",
     "output_type": "stream",
     "text": [
      "{'brand': 'Ford', 'model': 'Mustang', 'year': 1964, 'color': 'White'}\n"
     ]
    }
   ],
   "source": [
    "car = {\n",
    "  \"brand\": \"Ford\",\n",
    "  \"model\": \"Mustang\",\n",
    "  \"year\": 1964\n",
    "}\n",
    "\n",
    "car.update({\"color\": \"White\"})\n",
    "\n",
    "print(car)"
   ]
  },
  {
   "attachments": {},
   "cell_type": "markdown",
   "metadata": {},
   "source": [
    "<div style=\"font-size: 1em; margin: 1em 1em 1em 0; border: 1px solid #86989B; background-color: #F7ff59; padding: 1em 1em 1em 2em;\">\n",
    "\n",
    "<img src='imgs/icon3.png'  width='1%'> **values()**: returns a list of all the values in the dictionary\n",
    "\n",
    "</div>"
   ]
  },
  {
   "cell_type": "code",
   "execution_count": 60,
   "metadata": {},
   "outputs": [
    {
     "name": "stdout",
     "output_type": "stream",
     "text": [
      "dict_values(['Ford', 'Mustang', 1964])\n"
     ]
    }
   ],
   "source": [
    "car = {\n",
    "  \"brand\": \"Ford\",\n",
    "  \"model\": \"Mustang\",\n",
    "  \"year\": 1964\n",
    "}\n",
    "\n",
    "x = car.values()\n",
    "\n",
    "print(x)"
   ]
  },
  {
   "attachments": {},
   "cell_type": "markdown",
   "metadata": {},
   "source": [
    "<div style=\"font-size: 1em; margin: 1em 0 1em 0; border: 1px solid #86989B; background-color: #f7f7f7; padding: 0em 1em 1em 0.1em;\">\n",
    "<p style=\"margin: 0; padding: 0.1em 0 0.1em 0.5em; color: black; border-bottom: 1px solid #86989B; font-weight: bold; background-color: #28A745;\">\n",
    "Activity 6\n",
    "</p>\n",
    "<p style=\"margin: 0.5em 1em 0.5em 1em; padding: 0;\">\n",
    "\n",
    "Please apply the mentioned methods to your dictionary in the cell below:\n",
    "</p>\n",
    "</div>"
   ]
  },
  {
   "cell_type": "code",
   "execution_count": null,
   "metadata": {},
   "outputs": [],
   "source": []
  },
  {
   "attachments": {},
   "cell_type": "markdown",
   "metadata": {},
   "source": [
    "<div style=\"font-size: 1em; margin: 1em 1em 1em 0; border: 1px solid #86989B; background-color: #ACF9F9; padding: 1em 1em 1em 2em;\">\n",
    "\n",
    "## <span style='color:Black'>**Python Operators**</span>\n",
    "\n",
    "Operators are used to perform operations on variables and values.\n",
    "\n",
    "</div>"
   ]
  },
  {
   "attachments": {},
   "cell_type": "markdown",
   "metadata": {},
   "source": [
    "<div align = \"center\", style=\"font-size: 1em; margin: 1em 1em 1em 0; border: 1px solid #86989B; background-color: #FFFFFF; padding: 1em 1em 1em 2em;\">\n",
    "\n",
    "### **Arithmetic Operators**\n",
    "\n",
    "<img src='imgs/mathop.jpg'  width='50%'>\n",
    "\n",
    "</div>"
   ]
  },
  {
   "cell_type": "code",
   "execution_count": 68,
   "metadata": {},
   "outputs": [
    {
     "name": "stdout",
     "output_type": "stream",
     "text": [
      "1000000000000\n"
     ]
    }
   ],
   "source": [
    "x = 10\n",
    "y = 12\n",
    "\n",
    "print(a**b)"
   ]
  },
  {
   "attachments": {},
   "cell_type": "markdown",
   "metadata": {},
   "source": [
    "<div align = \"center\", style=\"font-size: 1em; margin: 1em 1em 1em 0; border: 1px solid #86989B; background-color: #ACF9F9; padding: 1em 1em 1em 2em;\">\n",
    "\n",
    "### **Assignment Operators**\n",
    "\n",
    "<img src='imgs/assignmentop.jpg'  width='50%'>\n",
    "\n",
    "</div>"
   ]
  },
  {
   "cell_type": "code",
   "execution_count": 71,
   "metadata": {},
   "outputs": [
    {
     "name": "stdout",
     "output_type": "stream",
     "text": [
      "12\n"
     ]
    }
   ],
   "source": [
    "x = 10\n",
    "x += 2\n",
    "\n",
    "print(x)"
   ]
  },
  {
   "cell_type": "code",
   "execution_count": 80,
   "metadata": {},
   "outputs": [
    {
     "name": "stdout",
     "output_type": "stream",
     "text": [
      "48\n",
      "3\n"
     ]
    }
   ],
   "source": [
    "x = 12\n",
    "x <<= 2\n",
    "\n",
    "print(x)\n",
    "\n",
    "x = 12\n",
    "x >>= 2\n",
    "print(x)"
   ]
  },
  {
   "attachments": {},
   "cell_type": "markdown",
   "metadata": {},
   "source": [
    "<div align = \"center\", style=\"font-size: 1em; margin: 1em 1em 1em 0; border: 1px solid #86989B; background-color: #FFFFFF; padding: 1em 1em 1em 2em;\">\n",
    "\n",
    "### Comparison Operators\n",
    "\n",
    "<img src='imgs/comop.jpg'  width='50%'>\n",
    "\n",
    "</div>"
   ]
  },
  {
   "cell_type": "code",
   "execution_count": 82,
   "metadata": {},
   "outputs": [
    {
     "name": "stdout",
     "output_type": "stream",
     "text": [
      "True\n"
     ]
    }
   ],
   "source": [
    "x = 5\n",
    "y = 3\n",
    "\n",
    "print(x > y)"
   ]
  },
  {
   "attachments": {},
   "cell_type": "markdown",
   "metadata": {},
   "source": [
    "<div align = \"center\", style=\"font-size: 1em; margin: 1em 1em 1em 0; border: 1px solid #86989B; background-color: #ACF9F9; padding: 1em 1em 1em 2em;\">\n",
    "\n",
    "### **Logical operators**\n",
    "\n",
    "<img src='imgs/logop.jpg'  width='50%'>\n",
    "\n",
    "</div>"
   ]
  },
  {
   "cell_type": "code",
   "execution_count": 83,
   "metadata": {},
   "outputs": [
    {
     "name": "stdout",
     "output_type": "stream",
     "text": [
      "True\n"
     ]
    }
   ],
   "source": [
    "x = 5\n",
    "\n",
    "print(x > 3 and x < 10)"
   ]
  },
  {
   "attachments": {},
   "cell_type": "markdown",
   "metadata": {},
   "source": [
    "<div align = \"center\", style=\"font-size: 1em; margin: 1em 1em 1em 0; border: 1px solid #86989B; background-color: #ACF#ffffff; padding: 1em 1em 1em 2em;\">\n",
    "\n",
    "### **Identity Operators**\n",
    "\n",
    "<img src='imgs/idenop.jpg'  width='50%'>\n",
    "\n",
    "</div>"
   ]
  },
  {
   "cell_type": "code",
   "execution_count": 84,
   "metadata": {},
   "outputs": [
    {
     "name": "stdout",
     "output_type": "stream",
     "text": [
      "True\n",
      "False\n",
      "True\n"
     ]
    }
   ],
   "source": [
    "x = [\"apple\", \"banana\"]\n",
    "y = [\"apple\", \"banana\"]\n",
    "z = x\n",
    "\n",
    "print(x is z) # returns True because z is the same object as x\n",
    "\n",
    "print(x is y) # returns False because x is not the same object as y, even if they have the same content\n",
    "\n",
    "print(x == y) # to demonstrate the difference betweeen \"is\" and \"==\": this comparison returns True because x is equal to y\n"
   ]
  },
  {
   "attachments": {},
   "cell_type": "markdown",
   "metadata": {},
   "source": [
    "<div align = \"center\", style=\"font-size: 1em; margin: 1em 1em 1em 0; border: 1px solid #86989B; background-color: #ACF9F9; padding: 1em 1em 1em 2em;\">\n",
    "\n",
    "### **Membership Operators**\n",
    "\n",
    "<img src='imgs/memop.jpg'  width='50%'>\n",
    "\n",
    "</div>"
   ]
  },
  {
   "cell_type": "code",
   "execution_count": 87,
   "metadata": {},
   "outputs": [
    {
     "name": "stdout",
     "output_type": "stream",
     "text": [
      "True\n"
     ]
    }
   ],
   "source": [
    "x = [\"apple\", \"banana\"]\n",
    "\n",
    "print(\"banana\" in x)"
   ]
  },
  {
   "attachments": {},
   "cell_type": "markdown",
   "metadata": {},
   "source": [
    "<div align = \"center\", style=\"font-size: 1em; margin: 1em 1em 1em 0; border: 1px solid #86989B; background-color: #ffffff; padding: 1em 1em 1em 2em;\">\n",
    "\n",
    "### **Bitwise Operators**\n",
    "\n",
    "<img src='imgs/bitop.jpg'  width='50%'>\n",
    "\n",
    "</div>"
   ]
  },
  {
   "cell_type": "code",
   "execution_count": 90,
   "metadata": {},
   "outputs": [
    {
     "name": "stdout",
     "output_type": "stream",
     "text": [
      "48\n"
     ]
    }
   ],
   "source": [
    "print(6 & 3)"
   ]
  },
  {
   "cell_type": "markdown",
   "metadata": {},
   "source": [
    "## <span style='color:Black'>**Control Structures**</span>"
   ]
  },
  {
   "attachments": {},
   "cell_type": "markdown",
   "metadata": {},
   "source": [
    "<div align = \"center\">\n",
    "<img src='imgs/controlflow.png'  width='35%'>\n",
    "</div>"
   ]
  },
  {
   "attachments": {},
   "cell_type": "markdown",
   "metadata": {},
   "source": [
    "<div style=\"margin: 1em 1em 1em 0; border: 1px solid #86989B; background-color: #F7F7F7; padding: 1em 1em 1em 2em;\">\n",
    "\n",
    "### If ... Else\n",
    "\n",
    "<div align = \"center\">\n",
    "<img src='imgs/imgif.png'  width='35%'>\n",
    "</div>\n",
    "\n",
    "</div>"
   ]
  },
  {
   "cell_type": "code",
   "execution_count": 61,
   "metadata": {},
   "outputs": [
    {
     "name": "stdout",
     "output_type": "stream",
     "text": [
      "a is greater than b\n"
     ]
    }
   ],
   "source": [
    "a = 100\n",
    "b = 50\n",
    "if b > a:\n",
    "  print(\"b is greater than a\")\n",
    "elif a == b:                # else if\n",
    "  print(\"a and b are equal\")\n",
    "else:\n",
    "  print(\"a is greater than b\")"
   ]
  },
  {
   "cell_type": "code",
   "execution_count": 62,
   "metadata": {},
   "outputs": [
    {
     "name": "stdout",
     "output_type": "stream",
     "text": [
      "Both conditions are True\n"
     ]
    }
   ],
   "source": [
    "a = 100\n",
    "b = 50\n",
    "c = 200\n",
    "if a > b and c > a:\n",
    "  print(\"Both conditions are True\")"
   ]
  },
  {
   "attachments": {},
   "cell_type": "markdown",
   "metadata": {},
   "source": [
    "<div style=\"margin: 1em 1em 1em 0; border: 1px solid #86989B; background-color: #F7F7F7; padding: 1em 1em 1em 2em;\">\n",
    "\n",
    "### While Loops\n",
    "\n",
    "<div align = \"center\">\n",
    "<img src='imgs/imgloop.gif'  width='35%'>\n",
    "</div>\n",
    "\n",
    "</div>"
   ]
  },
  {
   "cell_type": "markdown",
   "metadata": {},
   "source": [
    "<span style='color:DarkGreen'> **Example:**<br> Continue to the next iteration if i is 3 </span>"
   ]
  },
  {
   "cell_type": "code",
   "execution_count": 94,
   "metadata": {},
   "outputs": [
    {
     "name": "stdout",
     "output_type": "stream",
     "text": [
      "1\n",
      "2\n"
     ]
    }
   ],
   "source": [
    "# continue, pass, and break\n",
    "i = 0\n",
    "while i < 6:\n",
    "  i += 1\n",
    "  if i == 3:\n",
    "    continue\n",
    "  print(i)"
   ]
  },
  {
   "cell_type": "markdown",
   "metadata": {},
   "source": [
    "### For Loops"
   ]
  },
  {
   "cell_type": "markdown",
   "metadata": {},
   "source": [
    "<span style='color:DarkGreen'> **Example:**<br> Exit the loop when x is \"blue\", but this time the break comes before the print </span>"
   ]
  },
  {
   "cell_type": "code",
   "execution_count": 64,
   "metadata": {},
   "outputs": [
    {
     "name": "stdout",
     "output_type": "stream",
     "text": [
      "red\n"
     ]
    }
   ],
   "source": [
    "colors = [\"red\", \"blue\", \"green\"]\n",
    "for x in colors:\n",
    "  if x == \"blue\":\n",
    "    break\n",
    "  print(x)"
   ]
  },
  {
   "attachments": {},
   "cell_type": "markdown",
   "metadata": {},
   "source": [
    "<div style=\"font-size: 1em; margin: 1em 0 1em 0; border: 1px solid #86989B; background-color: #f7f7f7; padding: 0em 1em 1em 0.1em;\">\n",
    "<p style=\"margin: 0; padding: 0.1em 0 0.1em 0.5em; color: black; border-bottom: 1px solid #86989B; font-weight: bold; background-color: #28A745;\">\n",
    "Activity 7\n",
    "</p>\n",
    "<p style=\"margin: 0.5em 1em 0.5em 1em; padding: 0;\">\n",
    "\n",
    "Write a program that uses a \"while\" loop to print the first 10 numbers in the Fibonacci sequence.\n",
    "\n",
    "\n",
    "</p>\n",
    "</div>"
   ]
  },
  {
   "cell_type": "code",
   "execution_count": 1,
   "metadata": {},
   "outputs": [
    {
     "name": "stdout",
     "output_type": "stream",
     "text": [
      "1\n",
      "1\n",
      "2\n",
      "3\n",
      "5\n",
      "8\n",
      "13\n",
      "21\n",
      "34\n",
      "55\n"
     ]
    }
   ],
   "source": []
  },
  {
   "attachments": {},
   "cell_type": "markdown",
   "metadata": {},
   "source": [
    "<div style=\"font-size: 1em; margin: 1em 0 1em 0; border: 1px solid #86989B; background-color: #f7f7f7; padding: 0em 1em 1em 0.1em;\">\n",
    "<p style=\"margin: 0; padding: 0.1em 0 0.1em 0.5em; color: black; border-bottom: 1px solid #86989B; font-weight: bold; background-color: #28A745;\">\n",
    "Activity 8\n",
    "</p>\n",
    "<p style=\"margin: 0.5em 1em 0.5em 1em; padding: 0;\">\n",
    "\n",
    "Write a program that uses a \"for\" loop to print the even numbers between 1 and 20.\n",
    "\n",
    "</p>\n",
    "</div>"
   ]
  },
  {
   "cell_type": "code",
   "execution_count": 5,
   "metadata": {},
   "outputs": [
    {
     "name": "stdout",
     "output_type": "stream",
     "text": [
      "1\n",
      "3\n",
      "5\n",
      "7\n",
      "9\n",
      "11\n",
      "13\n",
      "15\n",
      "17\n",
      "19\n"
     ]
    }
   ],
   "source": []
  },
  {
   "attachments": {},
   "cell_type": "markdown",
   "metadata": {},
   "source": [
    "<div style=\"font-size: 1em; margin: 1em 0 1em 0; border: 1px solid #86989B; background-color: #f7f7f7; padding: 0em 1em 1em 0.1em;\">\n",
    "<p style=\"margin: 0; padding: 0.1em 0 0.1em 0.5em; color: black; border-bottom: 1px solid #86989B; font-weight: bold; background-color: #28A745;\">\n",
    "Activity 9\n",
    "</p>\n",
    "<p style=\"margin: 0.5em 1em 0.5em 1em; padding: 0;\">\n",
    "\n",
    "Calculate the sum of all numbers from 1 to 15 using a for loop:\n",
    "\n",
    "</p>\n",
    "</div>\n",
    "\n"
   ]
  },
  {
   "cell_type": "code",
   "execution_count": 7,
   "metadata": {},
   "outputs": [
    {
     "name": "stdout",
     "output_type": "stream",
     "text": [
      "120\n"
     ]
    }
   ],
   "source": []
  },
  {
   "attachments": {},
   "cell_type": "markdown",
   "metadata": {},
   "source": [
    "<div style=\"font-size: 1em; margin: 1em 1em 1em 1em; border: 1px solid #86989B; background-color: #8fffff;padding: 1em 1em 1em 1em; \">\n",
    "<div align=\"center\">\n",
    "<img src='imgs/icon5.png'  width='10%'>\n",
    "\n",
    "<h2 style=\"text-align: center;color: Darkgreen\">Numpy</h2>\n",
    "\n",
    "\n",
    "</div>"
   ]
  }
 ],
 "metadata": {
  "kernelspec": {
   "display_name": "Python 3",
   "language": "python",
   "name": "python3"
  },
  "language_info": {
   "codemirror_mode": {
    "name": "ipython",
    "version": 3
   },
   "file_extension": ".py",
   "mimetype": "text/x-python",
   "name": "python",
   "nbconvert_exporter": "python",
   "pygments_lexer": "ipython3",
   "version": "3.10.9"
  }
 },
 "nbformat": 4,
 "nbformat_minor": 4
}
