{
 "cells": [
  {
   "attachments": {},
   "cell_type": "markdown",
   "metadata": {},
   "source": [
    "\n",
    "<div class=\"alert alert-info\">\n",
    "    <h1 align=\"center\", style='color:black'>Linear Regression and Logistic Regression</h1> \n",
    "    <h3 align=\"center\" style='color:black'> International Graduate School of Artificial Intelligence - YunTech </h3>\n",
    "    <h5 align=\"center\">  </h5>\n",
    "</div>"
   ]
  },
  {
   "attachments": {},
   "cell_type": "markdown",
   "metadata": {},
   "source": [
    "# <span style = 'color:Black'>**Linear Regression** </span>\n",
    "\n"
   ]
  },
  {
   "attachments": {},
   "cell_type": "markdown",
   "metadata": {},
   "source": [
    "- Linear Regression is a supervised machine learning algorithm where the predicted output is continuous and has a constant slope. \n",
    "- It’s used to predict values within a continuous range, (e.g. sales, price). <br>\n"
   ]
  },
  {
   "attachments": {},
   "cell_type": "markdown",
   "metadata": {},
   "source": [
    "**Simple Regression:**\n",
    "<span style='color:Blue'>$$ y = mx + b $$</span> \n",
    "<br>\n",
    "$$x: input\\ data$$\n",
    "$$y: prediction$$\n",
    "$$m, \\ b: parameters$$"
   ]
  },
  {
   "attachments": {},
   "cell_type": "markdown",
   "metadata": {},
   "source": [
    "**Multivariable Regression:**\n",
    "$$f(x, y, z) = w_{1}x + w_{2}y + w_{3} z$$\n",
    "$$w: weights$$"
   ]
  },
  {
   "attachments": {},
   "cell_type": "markdown",
   "metadata": {},
   "source": [
    "<span style='color:darkgreen'> **Example:** how much a company spends on Radio advertising each year and its annual Sales in terms of units sold.</span>\n",
    "<br>\n",
    "\n",
    "\n",
    "\n",
    "<p align=\"center\">\n",
    "    <img src='./imgs/pic1.jpg' width = '40%'>\n",
    "</p>"
   ]
  },
  {
   "attachments": {},
   "cell_type": "markdown",
   "metadata": {},
   "source": [
    "<p align=\"center\">\n",
    "    <img src='./imgs/linear_regression.gif' width = '50%'>\n",
    "</p>"
   ]
  },
  {
   "attachments": {},
   "cell_type": "markdown",
   "metadata": {},
   "source": [
    "# <span style = \"color:Black\" >**Logistic Regression** </span>"
   ]
  },
  {
   "attachments": {},
   "cell_type": "markdown",
   "metadata": {},
   "source": [
    "#### <span style='color:Black'> **Introduction** </span>\n",
    "\n",
    "- It is a supervised learning classification algorithm which is used to predict observations to a discrete set of classes.\n",
    "- It is one of the most simple, straightforward and versatile classification algorithms which is used to solve classification problems.\n",
    "- The output of Logistic Regression problem can be only between the 0 and 1."
   ]
  },
  {
   "attachments": {},
   "cell_type": "markdown",
   "metadata": {},
   "source": [
    "**Logistic Regression** an extension of **Linear regression** where the dependent variable is **categorical and not continuous**.\n",
    "<br>"
   ]
  },
  {
   "attachments": {},
   "cell_type": "markdown",
   "metadata": {},
   "source": [
    "#### <span style = \"color:Black\" > **Linear Regression Vs. Logistic Regression** </span>"
   ]
  },
  {
   "attachments": {},
   "cell_type": "markdown",
   "metadata": {},
   "source": [
    "- Linear regression gives you a continuous output\n",
    "- Logistic regression provides a constant output\n"
   ]
  },
  {
   "attachments": {},
   "cell_type": "markdown",
   "metadata": {},
   "source": [
    "<p align=\"center\">\n",
    "    <img src='./imgs/pic3.jpg' width = '50%'>\n",
    "</p>\n"
   ]
  },
  {
   "attachments": {},
   "cell_type": "markdown",
   "metadata": {},
   "source": [
    "<br>\n",
    "\n",
    "#### <span style='color:Black'> **How does Logistic Regression work?** </span>"
   ]
  },
  {
   "attachments": {},
   "cell_type": "markdown",
   "metadata": {},
   "source": [
    "**Multiple Linear Regression equation:**\n",
    "<span style='color:Blue'>$$y = \\beta_{0} + \\beta_{1}X_{1} + \\beta_{2}X_{2} + ... + \\beta_{n}X_{n}$$</span>\n",
    "<br>\n",
    "\n",
    "$ y$ is dependent variable and $ X_{1}, X_{2}, ..., X_{n} $ are explanatory variables."
   ]
  },
  {
   "attachments": {},
   "cell_type": "markdown",
   "metadata": {},
   "source": [
    "**Sigmoid function:**\n",
    "$$ p = \\frac{1}{1+e^{-y}} $$\n",
    "<br>"
   ]
  },
  {
   "attachments": {},
   "cell_type": "markdown",
   "metadata": {},
   "source": [
    "\n",
    "<p align=\"center\">\n",
    "  <img src='./imgs/pic1.png' width = '30%'>\n",
    "</p>"
   ]
  },
  {
   "attachments": {},
   "cell_type": "markdown",
   "metadata": {},
   "source": [
    "<br>\n",
    "<br>\n",
    "\n",
    "**Decision boundary:**\n",
    "Our current prediction function returns a probability score between 0 and 1. So:\n",
    "$$ p≥0.5,class=1 $$\n",
    "$$ p<0.5,class=0 $$"
   ]
  },
  {
   "attachments": {},
   "cell_type": "markdown",
   "metadata": {},
   "source": [
    "<p align=\"center\">\n",
    "  <img src='./imgs/pic2.jpg' width = '50%'>\n",
    "</p>"
   ]
  },
  {
   "attachments": {},
   "cell_type": "markdown",
   "metadata": {},
   "source": [
    "<br>\n",
    "\n",
    "#### <span style='color:Black'> **Types of Logistic Regression** </span>"
   ]
  },
  {
   "attachments": {},
   "cell_type": "markdown",
   "metadata": {},
   "source": [
    "**1. Binary Logistic Regression** <br><br>\n",
    "    The target variable has two possible categories.<br>\n",
    "    <span style = \"color:darkgreen\">Examples: categories are yes or no, good or bad, true or false, spam or no spam and pass or fail.</span>"
   ]
  },
  {
   "attachments": {},
   "cell_type": "markdown",
   "metadata": {},
   "source": [
    "**2. Multinomial Logistic Regression** <br><br>\n",
    "    The target variable has three or more categories which are not in any particular order.<br>\n",
    "    <span style = \"color:darkgreen\">Examples: categories of fruits - apple, mango, orange and banana.</span>"
   ]
  },
  {
   "attachments": {},
   "cell_type": "markdown",
   "metadata": {},
   "source": [
    "**3. Ordinal Logistic Regression** <br><br>\n",
    "    The target variable has three or more ordinal categories <br>\n",
    "    <span style = \"color:darkgreen\">Examples: the student performance can be categorized as poor, average, good and excellent.</span>"
   ]
  },
  {
   "attachments": {},
   "cell_type": "markdown",
   "metadata": {},
   "source": [
    "<br>\n",
    "\n",
    "#### <span style='color:Black'>**Binary Logistic Regression in Python**</span>"
   ]
  },
  {
   "attachments": {},
   "cell_type": "markdown",
   "metadata": {},
   "source": [
    "- Scikit-Learn provides useful libraries to implement Logistic Regression on a dataset.\n",
    "\n",
    "https://scikit-learn.org/stable/\n",
    "\n",
    "<span style = \"color:darkgreen\"> **Example:** <br>Predict diabetes using Logistic Regression Classifier.</span>"
   ]
  },
  {
   "attachments": {},
   "cell_type": "markdown",
   "metadata": {},
   "source": [
    "<br> <span style = 'color:RebeccaPurple'>**Import libraries**</span>"
   ]
  },
  {
   "cell_type": "code",
   "execution_count": 1,
   "metadata": {},
   "outputs": [],
   "source": [
    "import pandas as pd\n",
    "import seaborn as sns"
   ]
  },
  {
   "attachments": {},
   "cell_type": "markdown",
   "metadata": {},
   "source": [
    "<br> <span style = 'color:RebeccaPurple'>**Load data**</span>"
   ]
  },
  {
   "cell_type": "code",
   "execution_count": 2,
   "metadata": {},
   "outputs": [
    {
     "name": "stdout",
     "output_type": "stream",
     "text": [
      "(768, 9)\n",
      "['Pregnancies', 'Glucose', 'BloodPressure', 'SkinThickness', 'Insulin', 'BMI', 'DiabetesPedigreeFunction', 'Age', 'Outcome']\n"
     ]
    }
   ],
   "source": [
    "data = pd.read_csv(r'./Data/diabetes.csv', header=0)\n",
    "data = data.dropna()\n",
    "\n",
    "print(data.shape)\n",
    "print(list(data.columns))"
   ]
  },
  {
   "cell_type": "code",
   "execution_count": 3,
   "metadata": {},
   "outputs": [
    {
     "name": "stdout",
     "output_type": "stream",
     "text": [
      "<class 'pandas.core.frame.DataFrame'>\n",
      "Int64Index: 768 entries, 0 to 767\n",
      "Data columns (total 9 columns):\n",
      " #   Column                    Non-Null Count  Dtype  \n",
      "---  ------                    --------------  -----  \n",
      " 0   Pregnancies               768 non-null    int64  \n",
      " 1   Glucose                   768 non-null    int64  \n",
      " 2   BloodPressure             768 non-null    int64  \n",
      " 3   SkinThickness             768 non-null    int64  \n",
      " 4   Insulin                   768 non-null    int64  \n",
      " 5   BMI                       768 non-null    float64\n",
      " 6   DiabetesPedigreeFunction  768 non-null    float64\n",
      " 7   Age                       768 non-null    int64  \n",
      " 8   Outcome                   768 non-null    int64  \n",
      "dtypes: float64(2), int64(7)\n",
      "memory usage: 60.0 KB\n"
     ]
    }
   ],
   "source": [
    "data.info()"
   ]
  },
  {
   "cell_type": "code",
   "execution_count": 4,
   "metadata": {},
   "outputs": [
    {
     "data": {
      "text/plain": [
       "0    500\n",
       "1    268\n",
       "Name: Outcome, dtype: int64"
      ]
     },
     "execution_count": 4,
     "metadata": {},
     "output_type": "execute_result"
    }
   ],
   "source": [
    "data['Outcome'].value_counts()"
   ]
  },
  {
   "cell_type": "code",
   "execution_count": 5,
   "metadata": {},
   "outputs": [
    {
     "data": {
      "text/plain": [
       "<AxesSubplot:xlabel='Outcome', ylabel='count'>"
      ]
     },
     "execution_count": 5,
     "metadata": {},
     "output_type": "execute_result"
    },
    {
     "data": {
      "image/png": "[encoded data removed]",
      "text/plain": [
       "<Figure size 432x288 with 1 Axes>"
      ]
     },
     "metadata": {
      "needs_background": "light"
     },
     "output_type": "display_data"
    }
   ],
   "source": [
    "sns.countplot(x = 'Outcome',data = data)"
   ]
  },
  {
   "attachments": {},
   "cell_type": "markdown",
   "metadata": {},
   "source": [
    "<span style = 'color:RebeccaPurple'>**Selecting Feature**</span>"
   ]
  },
  {
   "cell_type": "code",
   "execution_count": 6,
   "metadata": {},
   "outputs": [],
   "source": [
    "#split dataset in features and target variable\n",
    "feature_cols = ['Pregnancies', 'Insulin', 'BMI', 'Age','Glucose','BloodPressure','DiabetesPedigreeFunction']\n",
    "labels = data['Outcome']\n",
    "data = data[feature_cols]"
   ]
  },
  {
   "attachments": {},
   "cell_type": "markdown",
   "metadata": {},
   "source": [
    "<span style = 'color:RebeccaPurple'>**Splitting data into training and test sets**</span>"
   ]
  },
  {
   "cell_type": "code",
   "execution_count": 7,
   "metadata": {},
   "outputs": [],
   "source": [
    "from sklearn.model_selection import train_test_split\n",
    "\n",
    "train_data, test_data, train_labels, test_labels = train_test_split(data, labels, \n",
    "                       train_size = 0.8,\n",
    "                       test_size = 0.2,\n",
    "                       random_state = 1)"
   ]
  },
  {
   "attachments": {},
   "cell_type": "markdown",
   "metadata": {},
   "source": [
    "<span style = 'color:RebeccaPurple'>**Classification with Logistic Regression**</span>"
   ]
  },
  {
   "cell_type": "code",
   "execution_count": 8,
   "metadata": {},
   "outputs": [],
   "source": [
    "from sklearn.linear_model import LogisticRegression\n",
    "\n",
    "# instantiate the model (using the default parameters)\n",
    "model = LogisticRegression()\n",
    "\n",
    "# fit the model with data\n",
    "model.fit(train_data, train_labels)\n",
    "\n",
    "#\n",
    "predicted = model.predict(test_data)"
   ]
  },
  {
   "cell_type": "code",
   "execution_count": 9,
   "metadata": {},
   "outputs": [
    {
     "data": {
      "text/plain": [
       "285    0\n",
       "101    0\n",
       "581    0\n",
       "352    0\n",
       "726    0\n",
       "      ..\n",
       "563    0\n",
       "318    0\n",
       "154    1\n",
       "684    0\n",
       "643    0\n",
       "Name: Outcome, Length: 154, dtype: int64"
      ]
     },
     "execution_count": 9,
     "metadata": {},
     "output_type": "execute_result"
    }
   ],
   "source": [
    "test_labels"
   ]
  },
  {
   "cell_type": "code",
   "execution_count": 10,
   "metadata": {},
   "outputs": [
    {
     "data": {
      "text/plain": [
       "array([0, 0, 0, 0, 0, 0, 0, 0, 0, 0, 0, 0, 1, 1, 0, 1, 0, 0, 0, 0, 0, 0,\n",
       "       1, 0, 0, 0, 0, 1, 0, 0, 0, 0, 0, 1, 0, 1, 0, 0, 0, 1, 0, 0, 0, 0,\n",
       "       0, 0, 1, 1, 0, 0, 0, 0, 1, 0, 1, 0, 1, 0, 1, 0, 1, 0, 1, 0, 0, 0,\n",
       "       0, 0, 1, 1, 1, 1, 1, 0, 1, 0, 1, 0, 0, 1, 1, 0, 0, 0, 0, 1, 1, 0,\n",
       "       0, 0, 0, 0, 0, 0, 1, 0, 0, 0, 1, 0, 0, 0, 1, 0, 0, 0, 1, 1, 0, 0,\n",
       "       0, 0, 0, 0, 0, 0, 0, 0, 0, 0, 0, 1, 0, 0, 0, 0, 0, 0, 1, 0, 1, 0,\n",
       "       0, 0, 0, 0, 0, 1, 0, 0, 1, 0, 0, 1, 1, 0, 0, 0, 0, 0, 0, 1, 0, 0],\n",
       "      dtype=int64)"
      ]
     },
     "execution_count": 10,
     "metadata": {},
     "output_type": "execute_result"
    }
   ],
   "source": [
    "predicted"
   ]
  },
  {
   "attachments": {},
   "cell_type": "markdown",
   "metadata": {},
   "source": [
    "<span style = 'color:RebeccaPurple'>**Calculate metric**</span>"
   ]
  },
  {
   "attachments": {},
   "cell_type": "markdown",
   "metadata": {},
   "source": [
    "<span style = 'color:RebeccaPurple'>**Accuracy:** when a fraction of predictions machine learning is correct.</span>"
   ]
  },
  {
   "attachments": {},
   "cell_type": "markdown",
   "metadata": {},
   "source": [
    "<span style = 'color:RebeccaPurple'> $$Accuracy = \\frac{The\\;number\\;of\\;correct\\;predictions}{The\\;total\\;number\\;of\\;predictions}$$ </span>"
   ]
  },
  {
   "cell_type": "code",
   "execution_count": 11,
   "metadata": {},
   "outputs": [
    {
     "name": "stdout",
     "output_type": "stream",
     "text": [
      "Accuracy =  0.7727272727272727\n"
     ]
    }
   ],
   "source": [
    "from sklearn.metrics import accuracy_score\n",
    "print(\"Accuracy = \", accuracy_score(predicted, test_labels))"
   ]
  },
  {
   "attachments": {},
   "cell_type": "markdown",
   "metadata": {},
   "source": [
    "<br>\n",
    "\n",
    "#### <span style='color:Black'>**Multiclass Logistic Regression**</span>"
   ]
  },
  {
   "attachments": {},
   "cell_type": "markdown",
   "metadata": {},
   "source": [
    "**Procedure** <br>\n",
    "$\\;\\;\\;\\;\\;\\;$ 1. Divide the problem into **n+1** binary classification problems (+1 because the index starts at 0?). <br>\n",
    "$\\;\\;\\;\\;\\;\\;$ 2. For each class… <br>\n",
    "$\\;\\;\\;\\;\\;\\;$ 3. Predict the probability the observations are in that single class. <br>\n",
    "$\\;\\;\\;\\;\\;\\;$ 4. prediction = <math>max(probability of the classes)\n",
    "\n",
    "<br>\n",
    "<p align=\"center\">\n",
    "    <span style='color:blue'> For each sub-problem, we select one class (YES) and lump all the others into a second class (NO). <br> Then we take the class with the highest predicted value.</span>\n",
    "</p>\n"
   ]
  },
  {
   "attachments": {},
   "cell_type": "markdown",
   "metadata": {},
   "source": [
    "<span style = 'color: green'>**Advantages**</span>\n",
    "- Doesn't require high computation power\n",
    "- Easy to implement\n",
    "- Easily interpretable\n",
    "<br><br>\n",
    "\n",
    "<span style = 'color: red'>**Disadvantages**</span>\n",
    "- Logistic regression is not able to handle a large number of categorical features/variables\n",
    "- It is vulnerable to overfitting.\n",
    "- It can't solve the non-linear problem with the logistic regression."
   ]
  },
  {
   "attachments": {},
   "cell_type": "markdown",
   "metadata": {},
   "source": [
    "<div style=\"font-size: 1em; margin: 1em 1em 1em 1em; border: 1px solid #86989B; background-color: #8fffff;padding: 1em 1em 1em 1em; \">\n",
    "<div align=\"center\">\n",
    "<img src='Imgs/Icon5.png'  width='10%'>\n",
    "\n",
    "<h2 style=\"text-align: center;color: Darkgreen\"> Other classification </h2>\n",
    "\n",
    "\n",
    "</div>"
   ]
  }
 ],
 "metadata": {
  "kernelspec": {
   "display_name": "Python 3",
   "language": "python",
   "name": "python3"
  },
  "language_info": {
   "codemirror_mode": {
    "name": "ipython",
    "version": 3
   },
   "file_extension": ".py",
   "mimetype": "text/x-python",
   "name": "python",
   "nbconvert_exporter": "python",
   "pygments_lexer": "ipython3",
   "version": "3.9.7"
  }
 },
 "nbformat": 4,
 "nbformat_minor": 4
}
