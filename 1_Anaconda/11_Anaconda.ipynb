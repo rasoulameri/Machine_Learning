{
 "cells": [
  {
   "attachments": {},
   "cell_type": "markdown",
   "metadata": {},
   "source": [
    "<div style=\"font-size: 1em; margin: 1em 1em 1em 0; border: 1px solid #86989B; background-color: #f7f7f7; padding: 0;\">\n",
    "<span style='color:Black'>\n",
    "<div class=\"alert alert-info\">\n",
    "<img align=\"left\"  src='img/imgintro.png'  width='10%'><img align=\"right\" src='img/imgintro.png'  width='10%'>\n",
    "    <h1 align=\"center\"> Introduction </h1> \n",
    "    <h3 align=\"center\"> International Graduate School of Artificial Intelligence - YunTech </h3>\n",
    "    <h5 align=\"center\">  </h5>\n",
    "</div>\n",
    "</span>\n",
    "</div>\n"
   ]
  },
  {
   "attachments": {},
   "cell_type": "markdown",
   "metadata": {},
   "source": [
    "# <span style='color:Black'>**Prerequirements**</span>\n",
    "\n",
    "<img src='img/imgFoundation.png'  width='30%'>\n",
    "\n",
    "\n",
    "You can find some useful resources here: https://aman.ai/primers/math/#derivative-2-function-with-variable-base-and-variable-exponent"
   ]
  },
  {
   "attachments": {},
   "cell_type": "markdown",
   "metadata": {},
   "source": [
    "# <span style='color:green'>**Objectives** <img align=\"right\" src='img/imgObj.png'  width='10%'>\n",
    "\n",
    "<img src='img/icon2.png'  width='1%'> Participants will be able to **set up their Python environment** and work on data science and machine learning projects. <br>\n",
    "\n",
    "<img src='img/icon2.png'  width='1%'> Participants will **understand basic Python syntax** and be able to **manipulate and visualize data**. <br>\n",
    "\n",
    "<img src='img/icon2.png'  width='1%'> Participants will learn **data preprocessing** and **feature extraction techniques** for machine learning. <br> \n",
    "\n",
    "<img src='img/icon2.png'  width='1%'> Participants will **understand different types of machine learning** and be able to **build and evaluate models**. <br>\n",
    "\n",
    "<img src='img/icon2.png'  width='1%'> Participants will learn **advanced machine learning topics** such as *model evaluation* and *ensemble methods*. <br>\n",
    "\n",
    "<img src='img/icon2.png'  width='1%'> Participants will be able to **propose and develop AI applications** using Python. <br>\n",
    "\n",
    "</span>\n"
   ]
  },
  {
   "attachments": {},
   "cell_type": "markdown",
   "metadata": {},
   "source": [
    "# <span style='color:Black'>**Environment Preparation for Python**</span>\n",
    "\n",
    "In this course, the codes are executed in the **Jupyter** environment.\n",
    "To this aim, follow these steps:\n",
    "* Anaconda (https://www.anaconda.com/products/individual)\n",
    "* Jupyter Notebook (https://jupyter.org/)\n",
    "\n",
    "You can use other alternatives such as pycharm, vscode,..."
   ]
  },
  {
   "attachments": {},
   "cell_type": "markdown",
   "metadata": {},
   "source": [
    "<div align=\"center\">\n",
    "<img src='Img/IMgAnaLogo.svg'  width='25%'>\n",
    "</div>\n",
    "\n",
    "<img src='Img/Icon1.png'  width='1.2%'> <span style='color:Black'>**What is Anaconda?**</span>                              \n",
    "\n",
    "<img src='Img/Icon2.png'  width='1%'> The open‐source Anaconda is the easiest way to perform Python/R data science and machine learning on Linux, Windows, and Mac OS X. With over 19 million users worldwide. <br>\n",
    "\n",
    "<img src='Img/Icon2.png'  width='1%'> It is the industry standard for developing, testing, and training on a single machine, enabling individual data scientists to: <br>\n",
    "\n",
    "* Quickly download 7,500+ Python data science packages\n",
    "\n",
    "* Analyze data with scalability and performance with *NumPy*, *pandas*, ...\n",
    "\n",
    "* Visualize results with *Matplotlib*, and *Seaborn*, ...\n",
    "\n",
    "* Develop and train machine learning and deep learning models with *scikitlearn*, *TensorFlow*, *PyTorch*\n",
    "\n",
    "</div>"
   ]
  },
  {
   "attachments": {},
   "cell_type": "markdown",
   "metadata": {},
   "source": [
    "\n",
    "\n",
    "<img src='Img/Icon1.png'  width='1.2%'> <span style='color:Black'>**Anaconda Installation**</span>                              \n",
    "\n",
    "<img src='Img/Icon2.png'  width='1%'> Please follow the instruction here to install the Anaconda <br>\n",
    "* Link: https://www.anaconda.com/distribution/#download‐section\n",
    "\n",
    "<h3 style=\"text-align: center;color: Darkgreen\">The steps for downloading Anaconda</h3>\n",
    "<div align=\"center\">\n",
    "<img src='Img/ImgAna3.png'  width='60%'>\n",
    "</div>\n",
    "\n",
    "<br>\n",
    "\n",
    "<h3 style=\"text-align: center;color: Darkgreen\">The steps for installing Anaconda</h3>\n",
    "\n",
    "<div align=\"center\">\n",
    "<img src='Img/ImgAna4.png'  width='60%'>\n",
    "\n",
    "<span style='color:Red'> <br> NOTE: Please ensure that you turn on the \"Add Anaconda3 to my PATH environment variable\" option in the last step. </span>\n",
    "</div>\n",
    "</div>"
   ]
  },
  {
   "attachments": {},
   "cell_type": "markdown",
   "metadata": {},
   "source": [
    "\n",
    "<img src='Img/Icon4.png'  width='1.2%'> <span style='color:Black'>**What is Jupyter Notebook?**</span>                              \n",
    "\n",
    "<img src='Img/Icon3.png'  width='1%'> The Jupyter Notebook is an open‐source web application that allows you to create and share documents that contain live code, equations, visualizations and narrative text. <br>\n",
    "\n",
    "<img src='Img/Icon3.png'  width='1%'> It includes: data cleaning and transformation, numerical simulation, statistical modeling, data visualization, machine learning, and much more. <br>\n",
    "\n",
    "<img src='Img/Icon3.png'  width='1%'> Jupyter Notebook is included in the Anaconda. <br>\n",
    "\n",
    "<h3 style=\"text-align: center;color: Darkgreen\">Step 1: Select Jupyter Notebook</h3>\n",
    "<div align=\"center\">\n",
    "<img src='Img/ImgJup.png'  width='50%'>\n",
    "\n",
    "<h3 style=\"text-align: center;color: Darkgreen\">Step 2: Select the path, then under the button “New”, choose “Python 3” to open a new python file</h3>\n",
    "<div align=\"center\">\n",
    "<img src='Img/ImgJup1.png'  width='50%'>\n",
    "\n",
    "<h3 style=\"text-align: center;color: Darkgreen\">Step 3: Type the code into the input box on Jupyter</h3>\n",
    "\n",
    "<div align=\"center\">\n",
    "<img src='Img/ImgJup2.png'  width='50%'>\n",
    "</div>\n",
    "\n",
    "\n",
    "<img src='Img/Icon4.png'  width='1.2%'> <span style='color:Black'>**Basic Operation on Jupyter Notebook**</span>     \n",
    "\n",
    "<div align=\"center\">\n",
    "<img src='Img/ImgJup2.png'  width='50%'>\n",
    "</div>\n",
    "\n",
    "* **Run:** The output will be shown in the blank area right below the input box.\n",
    "\n",
    "* **Code cells:** Input and output of live code that is run in the kernel\n",
    "\n",
    "* **Markdown cells:** Narrative text with embedded LaTeX equations\n",
    "\n",
    "</div>"
   ]
  }
 ],
 "metadata": {
  "kernelspec": {
   "display_name": "Python 3",
   "language": "python",
   "name": "python3"
  },
  "language_info": {
   "codemirror_mode": {
    "name": "ipython",
    "version": 3
   },
   "file_extension": ".py",
   "mimetype": "text/x-python",
   "name": "python",
   "nbconvert_exporter": "python",
   "pygments_lexer": "ipython3",
   "version": "3.9.12"
  }
 },
 "nbformat": 4,
 "nbformat_minor": 4
}
